{
 "cells": [
  {
   "cell_type": "code",
   "execution_count": null,
   "id": "42452d72",
   "metadata": {},
   "outputs": [],
   "source": [
    "#yield: pauses the function and resumes later when the generator's __next__() is called\n",
    "def generate_numbers():\n",
    "\n",
    "    num = 0\n",
    "    print(\"Before entering loop\")\n",
    "    while True:\n",
    "        print(\"Before yield\") \n",
    "        yield num\n",
    "        num += 1\n",
    "        print(\"Number incremented\")\n",
    "#make new generator object\n",
    "new = generate_numbers()"
   ]
  },
  {
   "cell_type": "code",
   "execution_count": null,
   "id": "86b9e890",
   "metadata": {},
   "outputs": [],
   "source": [
    "\n",
    "#print the next value in the generator (updates for each call)\n",
    "print(next(new))"
   ]
  },
  {
   "cell_type": "code",
   "execution_count": null,
   "id": "58ec9b8f",
   "metadata": {},
   "outputs": [
    {
     "name": "stdout",
     "output_type": "stream",
     "text": [
      "Number incremented\n",
      "Before yield\n",
      "2\n"
     ]
    }
   ],
   "source": [
    "isinstance(5, int)  # True\n",
    "isinstance(\"hello\", str)  # True\n",
    "isinstance([1, 2, 3], list)  # True"
   ]
  }
 ],
 "metadata": {
  "kernelspec": {
   "display_name": "arc-agi-2",
   "language": "python",
   "name": "python3"
  },
  "language_info": {
   "codemirror_mode": {
    "name": "ipython",
    "version": 3
   },
   "file_extension": ".py",
   "mimetype": "text/x-python",
   "name": "python",
   "nbconvert_exporter": "python",
   "pygments_lexer": "ipython3",
   "version": "3.12.11"
  }
 },
 "nbformat": 4,
 "nbformat_minor": 5
}
